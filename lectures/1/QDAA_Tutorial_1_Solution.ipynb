{
  "nbformat": 4,
  "nbformat_minor": 0,
  "metadata": {
    "colab": {
      "provenance": [],
      "authorship_tag": "ABX9TyMMIFJyJVixbLWosVS28HGs",
      "include_colab_link": true
    },
    "kernelspec": {
      "name": "python3",
      "display_name": "Python 3"
    },
    "language_info": {
      "name": "python"
    }
  },
  "cells": [
    {
      "cell_type": "markdown",
      "metadata": {
        "id": "view-in-github",
        "colab_type": "text"
      },
      "source": [
        "<a href=\"https://colab.research.google.com/github/aclarke500/QDAA-tutorials/blob/main/lectures/1QDAA_Tutorial_1_Solution.ipynb\" target=\"_parent\"><img src=\"https://colab.research.google.com/assets/colab-badge.svg\" alt=\"Open In Colab\"/></a>"
      ]
    },
    {
      "cell_type": "markdown",
      "source": [
        "<h1>Importing Libraries</h1>\n",
        "<p>The first thing we want to do is import our libraries. Libraries are additional pieces of code (code someone else wrote that we are recycling) that can provide a lot of utility that doesn't come with Python out of the box. For pur data"
      ],
      "metadata": {
        "id": "ZUdgcxrEKHNw"
      }
    },
    {
      "cell_type": "code",
      "execution_count": null,
      "metadata": {
        "id": "nwLw2LCfJStU"
      },
      "outputs": [],
      "source": [
        "import pandas as pd"
      ]
    },
    {
      "cell_type": "markdown",
      "source": [
        "<h1>Importing Data</h1>\n",
        "<p>Today we will be using a shopping trends dataset.<p>\n",
        "<p>The dataset can be viewed on <a href=\"https://docs.google.com/spreadsheets/d/1cWEVkF8CnkpjdsDRCMSt5e0JkW-SmPjJdb100_wnSGs/edit?usp=sharing\">Google Sheets</a>,\n",
        "<a href=\"https://github.com/aclarke500/QDAA-tutorials/blob/main/datasets/montreal-airbnb-listings.csv\">Github</a>,and downloaded on by clicking <a href=\"http://data.insideairbnb.com/canada/qc/montreal/2023-10-08/visualisations/listings.csv\">here</a> (was sourced <a href=\"http://insideairbnb.com/get-the-data/\">here</a>).<br>\n",
        "<p>It is always useful to look at the data you are going to be analyzing before running any code with it, so I would encourage you to visually expect this. </p>\n",
        "<p>\n",
        " There are many different ways to import data into Python. In the following code, we import it from Github. If you try and do this, make sure you click the \"raw\" button on the csv file to get the correct link.</p>"
      ],
      "metadata": {
        "id": "Xk6R6-e0K4HL"
      }
    },
    {
      "cell_type": "code",
      "source": [
        "url = \"https://raw.githubusercontent.com/aclarke500/QDAA-tutorials/main/datasets/montreal-airbnb-listings.csv\"\n",
        "df = pd.read_csv(url)"
      ],
      "metadata": {
        "id": "f7EXfz4aJeGC"
      },
      "execution_count": null,
      "outputs": []
    },
    {
      "cell_type": "markdown",
      "source": [
        "<h1>Analysing Columns\n",
        "<p>When analyzing a data set, it's important to see what variables we are working with.\n",
        "<p>Further, in pandas, dataframes are indexed using strings, similair to Python dictionaries.\n",
        "<p>Let's print out all the variables so we know both <i>what</i> we are working with and <i>how</i> to index them."
      ],
      "metadata": {
        "id": "9h-FeC69WO9Y"
      }
    },
    {
      "cell_type": "code",
      "source": [
        "for variable_name in df.columns:\n",
        "  print(variable_name)"
      ],
      "metadata": {
        "colab": {
          "base_uri": "https://localhost:8080/"
        },
        "id": "JuYbBSe0JhvW",
        "outputId": "5e2444a5-77cd-46ac-f09a-e5eede6f6300"
      },
      "execution_count": null,
      "outputs": [
        {
          "output_type": "stream",
          "name": "stdout",
          "text": [
            "id\n",
            "name\n",
            "host_id\n",
            "host_name\n",
            "neighbourhood_group\n",
            "neighbourhood\n",
            "latitude\n",
            "longitude\n",
            "room_type\n",
            "price\n",
            "minimum_nights\n",
            "number_of_reviews\n",
            "last_review\n",
            "reviews_per_month\n",
            "calculated_host_listings_count\n",
            "availability_365\n",
            "number_of_reviews_ltm\n",
            "license\n"
          ]
        }
      ]
    },
    {
      "cell_type": "markdown",
      "source": [
        "<h1>Plotting!</h1>\n",
        "<p>Now that we know what our variables are and how we can index them, lets plot a histogram and see what we can draw from that.\n",
        "<p>In order to plot the histogram we're going to use a library called matplot. Matplot is a fantastic tool that makes plotting decent looking graphs very easy.\n",
        "<p>For starters, we're gonna be plotting a histogram to see how our data is distributed."
      ],
      "metadata": {
        "id": "14tXpWx9XqSP"
      }
    },
    {
      "cell_type": "markdown",
      "source": [],
      "metadata": {
        "id": "jhf0i7O6hdhp"
      }
    },
    {
      "cell_type": "code",
      "source": [
        "# firstly, import matplot\n",
        "import matplotlib.pyplot as plt"
      ],
      "metadata": {
        "id": "khEuvMqfZZ_v"
      },
      "execution_count": null,
      "outputs": []
    },
    {
      "cell_type": "code",
      "source": [
        "plt.hist(df[\"price\"].tolist(), bins=20, range=(0, 1000),color='#ccd177', edgecolor='black')\n",
        "\n",
        "# Add titles and labels to make graph look dope af on da gram\n",
        "plt.title(\"Prices of Airbnb's in Montréal\")\n",
        "plt.xlabel('$ Per Night')\n",
        "plt.ylabel('Frequency')\n",
        "\n",
        "# Plot that thing\n",
        "plt.show()"
      ],
      "metadata": {
        "colab": {
          "base_uri": "https://localhost:8080/",
          "height": 472
        },
        "id": "cAwT5AfRZh3r",
        "outputId": "ec76ed16-3e63-4195-adbe-4b6f8b91e700"
      },
      "execution_count": null,
      "outputs": [
        {
          "output_type": "display_data",
          "data": {
            "text/plain": [
              "<Figure size 640x480 with 1 Axes>"
            ],
            "image/png": "[encoded data removed]"
          },
          "metadata": {}
        }
      ]
    },
    {
      "cell_type": "markdown",
      "source": [
        "<h1>Subsetting and Logical Arrays\n",
        "<p>Often times when working with data, you don't want to look at every piece of data. For instance, you might want to <b>remove outliers</b> or only examine data that match particular <b>properties of interest</b>.\n",
        "<p>Say, for instance, we are writing an article on budget friendly airbnb's in Montreal. We don't want to examine every single entry, just the cheaper ones.\n",
        "<p> The way we solve this problem is with a <b>logical array</b>.\n",
        "<p> Logical arrays are ordered arrays of True and False values that represent which positions are valid and invalid. For instance, if I had a list of things [present, apples, bananas, dogs, oranges], a logical array representing which of those are fruit would be [False, True, True, False, True]. This is useful for telling pandas (or any data analysis tool) which elements we want to consider.\n",
        "\n",
        "<h2>Implementation!</h2>\n",
        "Now, we're gonna only grab the places that are less than 150 per night, and create a new dataframe with our cheaper options."
      ],
      "metadata": {
        "id": "aS6yGaQnddPi"
      }
    },
    {
      "cell_type": "code",
      "source": [
        "# create list to represent our logical array\n",
        "indices_of_cheap_airbnb = df['price'] <= 150"
      ],
      "metadata": {
        "id": "D76TNW2EkpG7"
      },
      "execution_count": null,
      "outputs": []
    },
    {
      "cell_type": "code",
      "source": [
        "# hold our \"cheap\" airbnbs in a new dataframe\n",
        "cheap_df = df[indices_of_cheap_airbnb]\n",
        "cheap_df.head() # you can just call variables and they print"
      ],
      "metadata": {
        "colab": {
          "base_uri": "https://localhost:8080/",
          "height": 660
        },
        "id": "SM15UFXplhs-",
        "outputId": "89740f62-14a7-4c30-c706-cc5263ad5d57"
      },
      "execution_count": null,
      "outputs": [
        {
          "output_type": "execute_result",
          "data": {
            "text/plain": [
              "      id                                               name  host_id  \\\n",
              "4  38118  Rental unit in Montreal · ★4.50 · 3 bedrooms ·...   163569   \n",
              "5  46626  Rental unit in Montréal · ★4.62 · 4 bedrooms ·...   208453   \n",
              "6  50479  Rental unit in Montreal · ★4.95 · 1 bedroom · ...   231694   \n",
              "8  66276  Rental unit in Montreal · ★4.70 · 1 bedroom · ...   324569   \n",
              "9  70489  Condo in Montreal · ★4.0 · 1 bedroom · 2 beds ...   145990   \n",
              "\n",
              "    host_name  neighbourhood_group                        neighbourhood  \\\n",
              "4          M.                  NaN                          Ville-Marie   \n",
              "5     Maureen                  NaN  Côte-des-Neiges-Notre-Dame-de-Grâce   \n",
              "6      Noemie                  NaN            Rosemont-La Petite-Patrie   \n",
              "8        Anna                  NaN  Côte-des-Neiges-Notre-Dame-de-Grâce   \n",
              "9  Marc Andre                  NaN                          Ville-Marie   \n",
              "\n",
              "    latitude  longitude        room_type  price  minimum_nights  \\\n",
              "4  45.526990 -73.558400     Private room     50              31   \n",
              "5  45.470228 -73.607123     Private room     76               3   \n",
              "6  45.541570 -73.607370  Entire home/apt    121               4   \n",
              "8  45.461330 -73.628967  Entire home/apt     55              32   \n",
              "9  45.501900 -73.563540  Entire home/apt     90              31   \n",
              "\n",
              "   number_of_reviews last_review  reviews_per_month  \\\n",
              "4                 17  2022-08-29               0.12   \n",
              "5                 54  2023-09-16               0.36   \n",
              "6                243  2023-09-23               1.53   \n",
              "8                 39  2023-06-06               0.25   \n",
              "9                  3  2014-09-08               0.02   \n",
              "\n",
              "   calculated_host_listings_count  availability_365  number_of_reviews_ltm  \\\n",
              "4                               1               327                      0   \n",
              "5                               2               353                     14   \n",
              "6                               2                 0                     52   \n",
              "8                               2               256                      1   \n",
              "9                               1               291                      0   \n",
              "\n",
              "                       license  \n",
              "4                          NaN  \n",
              "5  305995, expires: 2024-07-31  \n",
              "6  271530, expires: 2024-04-30  \n",
              "8                          NaN  \n",
              "9                          NaN  "
            ],
            "text/html": [
              "\n",
              "  <div id=\"df-0806aafb-e093-465b-8c66-30506faa5680\" class=\"colab-df-container\">\n",
              "    <div>\n",
              "<style scoped>\n",
              "    .dataframe tbody tr th:only-of-type {\n",
              "        vertical-align: middle;\n",
              "    }\n",
              "\n",
              "    .dataframe tbody tr th {\n",
              "        vertical-align: top;\n",
              "    }\n",
              "\n",
              "    .dataframe thead th {\n",
              "        text-align: right;\n",
              "    }\n",
              "</style>\n",
              "<table border=\"1\" class=\"dataframe\">\n",
              "  <thead>\n",
              "    <tr style=\"text-align: right;\">\n",
              "      <th></th>\n",
              "      <th>id</th>\n",
              "      <th>name</th>\n",
              "      <th>host_id</th>\n",
              "      <th>host_name</th>\n",
              "      <th>neighbourhood_group</th>\n",
              "      <th>neighbourhood</th>\n",
              "      <th>latitude</th>\n",
              "      <th>longitude</th>\n",
              "      <th>room_type</th>\n",
              "      <th>price</th>\n",
              "      <th>minimum_nights</th>\n",
              "      <th>number_of_reviews</th>\n",
              "      <th>last_review</th>\n",
              "      <th>reviews_per_month</th>\n",
              "      <th>calculated_host_listings_count</th>\n",
              "      <th>availability_365</th>\n",
              "      <th>number_of_reviews_ltm</th>\n",
              "      <th>license</th>\n",
              "    </tr>\n",
              "  </thead>\n",
              "  <tbody>\n",
              "    <tr>\n",
              "      <th>4</th>\n",
              "      <td>38118</td>\n",
              "      <td>Rental unit in Montreal · ★4.50 · 3 bedrooms ·...</td>\n",
              "      <td>163569</td>\n",
              "      <td>M.</td>\n",
              "      <td>NaN</td>\n",
              "      <td>Ville-Marie</td>\n",
              "      <td>45.526990</td>\n",
              "      <td>-73.558400</td>\n",
              "      <td>Private room</td>\n",
              "      <td>50</td>\n",
              "      <td>31</td>\n",
              "      <td>17</td>\n",
              "      <td>2022-08-29</td>\n",
              "      <td>0.12</td>\n",
              "      <td>1</td>\n",
              "      <td>327</td>\n",
              "      <td>0</td>\n",
              "      <td>NaN</td>\n",
              "    </tr>\n",
              "    <tr>\n",
              "      <th>5</th>\n",
              "      <td>46626</td>\n",
              "      <td>Rental unit in Montréal · ★4.62 · 4 bedrooms ·...</td>\n",
              "      <td>208453</td>\n",
              "      <td>Maureen</td>\n",
              "      <td>NaN</td>\n",
              "      <td>Côte-des-Neiges-Notre-Dame-de-Grâce</td>\n",
              "      <td>45.470228</td>\n",
              "      <td>-73.607123</td>\n",
              "      <td>Private room</td>\n",
              "      <td>76</td>\n",
              "      <td>3</td>\n",
              "      <td>54</td>\n",
              "      <td>2023-09-16</td>\n",
              "      <td>0.36</td>\n",
              "      <td>2</td>\n",
              "      <td>353</td>\n",
              "      <td>14</td>\n",
              "      <td>305995, expires: 2024-07-31</td>\n",
              "    </tr>\n",
              "    <tr>\n",
              "      <th>6</th>\n",
              "      <td>50479</td>\n",
              "      <td>Rental unit in Montreal · ★4.95 · 1 bedroom · ...</td>\n",
              "      <td>231694</td>\n",
              "      <td>Noemie</td>\n",
              "      <td>NaN</td>\n",
              "      <td>Rosemont-La Petite-Patrie</td>\n",
              "      <td>45.541570</td>\n",
              "      <td>-73.607370</td>\n",
              "      <td>Entire home/apt</td>\n",
              "      <td>121</td>\n",
              "      <td>4</td>\n",
              "      <td>243</td>\n",
              "      <td>2023-09-23</td>\n",
              "      <td>1.53</td>\n",
              "      <td>2</td>\n",
              "      <td>0</td>\n",
              "      <td>52</td>\n",
              "      <td>271530, expires: 2024-04-30</td>\n",
              "    </tr>\n",
              "    <tr>\n",
              "      <th>8</th>\n",
              "      <td>66276</td>\n",
              "      <td>Rental unit in Montreal · ★4.70 · 1 bedroom · ...</td>\n",
              "      <td>324569</td>\n",
              "      <td>Anna</td>\n",
              "      <td>NaN</td>\n",
              "      <td>Côte-des-Neiges-Notre-Dame-de-Grâce</td>\n",
              "      <td>45.461330</td>\n",
              "      <td>-73.628967</td>\n",
              "      <td>Entire home/apt</td>\n",
              "      <td>55</td>\n",
              "      <td>32</td>\n",
              "      <td>39</td>\n",
              "      <td>2023-06-06</td>\n",
              "      <td>0.25</td>\n",
              "      <td>2</td>\n",
              "      <td>256</td>\n",
              "      <td>1</td>\n",
              "      <td>NaN</td>\n",
              "    </tr>\n",
              "    <tr>\n",
              "      <th>9</th>\n",
              "      <td>70489</td>\n",
              "      <td>Condo in Montreal · ★4.0 · 1 bedroom · 2 beds ...</td>\n",
              "      <td>145990</td>\n",
              "      <td>Marc Andre</td>\n",
              "      <td>NaN</td>\n",
              "      <td>Ville-Marie</td>\n",
              "      <td>45.501900</td>\n",
              "      <td>-73.563540</td>\n",
              "      <td>Entire home/apt</td>\n",
              "      <td>90</td>\n",
              "      <td>31</td>\n",
              "      <td>3</td>\n",
              "      <td>2014-09-08</td>\n",
              "      <td>0.02</td>\n",
              "      <td>1</td>\n",
              "      <td>291</td>\n",
              "      <td>0</td>\n",
              "      <td>NaN</td>\n",
              "    </tr>\n",
              "  </tbody>\n",
              "</table>\n",
              "</div>\n",
              "    <div class=\"colab-df-buttons\">\n",
              "\n",
              "  <div class=\"colab-df-container\">\n",
              "    <button class=\"colab-df-convert\" onclick=\"convertToInteractive('df-0806aafb-e093-465b-8c66-30506faa5680')\"\n",
              "            title=\"Convert this dataframe to an interactive table.\"\n",
              "            style=\"display:none;\">\n",
              "\n",
              "  <svg xmlns=\"http://www.w3.org/2000/svg\" height=\"24px\" viewBox=\"0 -960 960 960\">\n",
              "    <path d=\"M120-120v-720h720v720H120Zm60-500h600v-160H180v160Zm220 220h160v-160H400v160Zm0 220h160v-160H400v160ZM180-400h160v-160H180v160Zm440 0h160v-160H620v160ZM180-180h160v-160H180v160Zm440 0h160v-160H620v160Z\"/>\n",
              "  </svg>\n",
              "    </button>\n",
              "\n",
              "  <style>\n",
              "    .colab-df-container {\n",
              "      display:flex;\n",
              "      gap: 12px;\n",
              "    }\n",
              "\n",
              "    .colab-df-convert {\n",
              "      background-color: #E8F0FE;\n",
              "      border: none;\n",
              "      border-radius: 50%;\n",
              "      cursor: pointer;\n",
              "      display: none;\n",
              "      fill: #1967D2;\n",
              "      height: 32px;\n",
              "      padding: 0 0 0 0;\n",
              "      width: 32px;\n",
              "    }\n",
              "\n",
              "    .colab-df-convert:hover {\n",
              "      background-color: #E2EBFA;\n",
              "      box-shadow: 0px 1px 2px rgba(60, 64, 67, 0.3), 0px 1px 3px 1px rgba(60, 64, 67, 0.15);\n",
              "      fill: #174EA6;\n",
              "    }\n",
              "\n",
              "    .colab-df-buttons div {\n",
              "      margin-bottom: 4px;\n",
              "    }\n",
              "\n",
              "    [theme=dark] .colab-df-convert {\n",
              "      background-color: #3B4455;\n",
              "      fill: #D2E3FC;\n",
              "    }\n",
              "\n",
              "    [theme=dark] .colab-df-convert:hover {\n",
              "      background-color: #434B5C;\n",
              "      box-shadow: 0px 1px 3px 1px rgba(0, 0, 0, 0.15);\n",
              "      filter: drop-shadow(0px 1px 2px rgba(0, 0, 0, 0.3));\n",
              "      fill: #FFFFFF;\n",
              "    }\n",
              "  </style>\n",
              "\n",
              "    <script>\n",
              "      const buttonEl =\n",
              "        document.querySelector('#df-0806aafb-e093-465b-8c66-30506faa5680 button.colab-df-convert');\n",
              "      buttonEl.style.display =\n",
              "        google.colab.kernel.accessAllowed ? 'block' : 'none';\n",
              "\n",
              "      async function convertToInteractive(key) {\n",
              "        const element = document.querySelector('#df-0806aafb-e093-465b-8c66-30506faa5680');\n",
              "        const dataTable =\n",
              "          await google.colab.kernel.invokeFunction('convertToInteractive',\n",
              "                                                    [key], {});\n",
              "        if (!dataTable) return;\n",
              "\n",
              "        const docLinkHtml = 'Like what you see? Visit the ' +\n",
              "          '<a target=\"_blank\" href=https://colab.research.google.com/notebooks/data_table.ipynb>data table notebook</a>'\n",
              "          + ' to learn more about interactive tables.';\n",
              "        element.innerHTML = '';\n",
              "        dataTable['output_type'] = 'display_data';\n",
              "        await google.colab.output.renderOutput(dataTable, element);\n",
              "        const docLink = document.createElement('div');\n",
              "        docLink.innerHTML = docLinkHtml;\n",
              "        element.appendChild(docLink);\n",
              "      }\n",
              "    </script>\n",
              "  </div>\n",
              "\n",
              "\n",
              "<div id=\"df-e135a439-749c-4b71-bbc8-bc87e0ffa300\">\n",
              "  <button class=\"colab-df-quickchart\" onclick=\"quickchart('df-e135a439-749c-4b71-bbc8-bc87e0ffa300')\"\n",
              "            title=\"Suggest charts\"\n",
              "            style=\"display:none;\">\n",
              "\n",
              "<svg xmlns=\"http://www.w3.org/2000/svg\" height=\"24px\"viewBox=\"0 0 24 24\"\n",
              "     width=\"24px\">\n",
              "    <g>\n",
              "        <path d=\"M19 3H5c-1.1 0-2 .9-2 2v14c0 1.1.9 2 2 2h14c1.1 0 2-.9 2-2V5c0-1.1-.9-2-2-2zM9 17H7v-7h2v7zm4 0h-2V7h2v10zm4 0h-2v-4h2v4z\"/>\n",
              "    </g>\n",
              "</svg>\n",
              "  </button>\n",
              "\n",
              "<style>\n",
              "  .colab-df-quickchart {\n",
              "      --bg-color: #E8F0FE;\n",
              "      --fill-color: #1967D2;\n",
              "      --hover-bg-color: #E2EBFA;\n",
              "      --hover-fill-color: #174EA6;\n",
              "      --disabled-fill-color: #AAA;\n",
              "      --disabled-bg-color: #DDD;\n",
              "  }\n",
              "\n",
              "  [theme=dark] .colab-df-quickchart {\n",
              "      --bg-color: #3B4455;\n",
              "      --fill-color: #D2E3FC;\n",
              "      --hover-bg-color: #434B5C;\n",
              "      --hover-fill-color: #FFFFFF;\n",
              "      --disabled-bg-color: #3B4455;\n",
              "      --disabled-fill-color: #666;\n",
              "  }\n",
              "\n",
              "  .colab-df-quickchart {\n",
              "    background-color: var(--bg-color);\n",
              "    border: none;\n",
              "    border-radius: 50%;\n",
              "    cursor: pointer;\n",
              "    display: none;\n",
              "    fill: var(--fill-color);\n",
              "    height: 32px;\n",
              "    padding: 0;\n",
              "    width: 32px;\n",
              "  }\n",
              "\n",
              "  .colab-df-quickchart:hover {\n",
              "    background-color: var(--hover-bg-color);\n",
              "    box-shadow: 0 1px 2px rgba(60, 64, 67, 0.3), 0 1px 3px 1px rgba(60, 64, 67, 0.15);\n",
              "    fill: var(--button-hover-fill-color);\n",
              "  }\n",
              "\n",
              "  .colab-df-quickchart-complete:disabled,\n",
              "  .colab-df-quickchart-complete:disabled:hover {\n",
              "    background-color: var(--disabled-bg-color);\n",
              "    fill: var(--disabled-fill-color);\n",
              "    box-shadow: none;\n",
              "  }\n",
              "\n",
              "  .colab-df-spinner {\n",
              "    border: 2px solid var(--fill-color);\n",
              "    border-color: transparent;\n",
              "    border-bottom-color: var(--fill-color);\n",
              "    animation:\n",
              "      spin 1s steps(1) infinite;\n",
              "  }\n",
              "\n",
              "  @keyframes spin {\n",
              "    0% {\n",
              "      border-color: transparent;\n",
              "      border-bottom-color: var(--fill-color);\n",
              "      border-left-color: var(--fill-color);\n",
              "    }\n",
              "    20% {\n",
              "      border-color: transparent;\n",
              "      border-left-color: var(--fill-color);\n",
              "      border-top-color: var(--fill-color);\n",
              "    }\n",
              "    30% {\n",
              "      border-color: transparent;\n",
              "      border-left-color: var(--fill-color);\n",
              "      border-top-color: var(--fill-color);\n",
              "      border-right-color: var(--fill-color);\n",
              "    }\n",
              "    40% {\n",
              "      border-color: transparent;\n",
              "      border-right-color: var(--fill-color);\n",
              "      border-top-color: var(--fill-color);\n",
              "    }\n",
              "    60% {\n",
              "      border-color: transparent;\n",
              "      border-right-color: var(--fill-color);\n",
              "    }\n",
              "    80% {\n",
              "      border-color: transparent;\n",
              "      border-right-color: var(--fill-color);\n",
              "      border-bottom-color: var(--fill-color);\n",
              "    }\n",
              "    90% {\n",
              "      border-color: transparent;\n",
              "      border-bottom-color: var(--fill-color);\n",
              "    }\n",
              "  }\n",
              "</style>\n",
              "\n",
              "  <script>\n",
              "    async function quickchart(key) {\n",
              "      const quickchartButtonEl =\n",
              "        document.querySelector('#' + key + ' button');\n",
              "      quickchartButtonEl.disabled = true;  // To prevent multiple clicks.\n",
              "      quickchartButtonEl.classList.add('colab-df-spinner');\n",
              "      try {\n",
              "        const charts = await google.colab.kernel.invokeFunction(\n",
              "            'suggestCharts', [key], {});\n",
              "      } catch (error) {\n",
              "        console.error('Error during call to suggestCharts:', error);\n",
              "      }\n",
              "      quickchartButtonEl.classList.remove('colab-df-spinner');\n",
              "      quickchartButtonEl.classList.add('colab-df-quickchart-complete');\n",
              "    }\n",
              "    (() => {\n",
              "      let quickchartButtonEl =\n",
              "        document.querySelector('#df-e135a439-749c-4b71-bbc8-bc87e0ffa300 button');\n",
              "      quickchartButtonEl.style.display =\n",
              "        google.colab.kernel.accessAllowed ? 'block' : 'none';\n",
              "    })();\n",
              "  </script>\n",
              "</div>\n",
              "    </div>\n",
              "  </div>\n"
            ]
          },
          "metadata": {},
          "execution_count": 10
        }
      ]
    },
    {
      "cell_type": "markdown",
      "source": [
        "<h2>Examine</h2>\n",
        "<p>Now lets see <b>where</b> these hotels are!"
      ],
      "metadata": {
        "id": "H60_UjO8l0Ww"
      }
    },
    {
      "cell_type": "code",
      "source": [
        "cheap_latitude = cheap_df['latitude'].tolist()\n",
        "cheap_longitude = cheap_df['longitude'].tolist()"
      ],
      "metadata": {
        "id": "60a-vgh-l8fU"
      },
      "execution_count": null,
      "outputs": []
    },
    {
      "cell_type": "code",
      "source": [
        "plt.scatter(cheap_longitude, cheap_latitude, c='#77d18f')\n",
        "\n",
        "plt.title(\"Heatmap of Cheap Airbnbs in Montreal\")\n",
        "plt.xlabel('Longitude')\n",
        "plt.ylabel('Latitude')\n",
        "\n",
        "plt.show()"
      ],
      "metadata": {
        "colab": {
          "base_uri": "https://localhost:8080/",
          "height": 472
        },
        "id": "agZ9FGItm3Z8",
        "outputId": "56b78324-6dc1-4e50-ebed-ac1dee2d2512"
      },
      "execution_count": null,
      "outputs": [
        {
          "output_type": "display_data",
          "data": {
            "text/plain": [
              "<Figure size 640x480 with 1 Axes>"
            ],
            "image/png": "[encoded data removed]"
          },
          "metadata": {}
        }
      ]
    },
    {
      "cell_type": "markdown",
      "source": [
        "<h1>Challenge!</h1>\n",
        "<p>I'm going to Montreal with my favourite QDAA members (including you if you help me out here) after exam season is over. <p>I want a decently priced, but not too cheap, airbnb between $100-200 (inclusive).\n",
        "<p>However, since we have to head back for the holidays, we can only stay for a few days, so the minimum number of nights must be less than or equal to 2. Give me the list of hotels in this price range."
      ],
      "metadata": {
        "id": "OHPc8OltrHOu"
      }
    },
    {
      "cell_type": "code",
      "source": [
        "# create logical array\n",
        "not_cheap = df['price'] >= 100\n",
        "# subset data\n",
        "not_cheap_df = df[not_cheap]\n",
        "# create new array from new data frame\n",
        "not_expensive_not_cheap = not_cheap_df['price'] <= 200\n",
        "# subset array from not_cheap_df\n",
        "valid_price_df = not_cheap_df[not_expensive_not_cheap]\n",
        "# create new df\n",
        "correct_nights = valid_price_df['minimum_nights'] <= 2\n",
        "valid_df = valid_price_df[correct_nights]"
      ],
      "metadata": {
        "id": "9hHkswzCytjn"
      },
      "execution_count": null,
      "outputs": []
    },
    {
      "cell_type": "markdown",
      "source": [
        "<h1>Bonus challenge!</h1>\n",
        "<ul>\n",
        "<li>Must be less than 0.1 units on the longitude latitude board from my favourite poutine place, <i>Poutineville Bishop</i> located at 45.495880, -73.575490.\n",
        "<ul>\n"
      ],
      "metadata": {
        "id": "hb3O-URsu-6B"
      }
    },
    {
      "cell_type": "code",
      "source": [
        "poutine_spot=(45.495880, -73.575490) # location of poutinery"
      ],
      "metadata": {
        "id": "KG4A_ufdIW5n"
      },
      "execution_count": null,
      "outputs": []
    },
    {
      "cell_type": "markdown",
      "source": [
        "<h2>Solution</h2>\n",
        "<p>In order to solve this problem, it's best to think of these locations as vectors. Each point on the map is a vector.</p>\n",
        "<p>With this intuition as points being vectors, we can come up with our <b>objective function</b>. That is, the point, or task, we are trying to minimize. In this case, that is the distance between Poutine Bishop and a airbnb. We can determine the distance between two vectors (or points) using the formula $d = \\sqrt{(x_1 - x_2)^2 + (y_1 - y_2)^2}$\n",
        "<p>We can determine if the point is close enough if that length is less than or equal to a certain threshold, $Θ$."
      ],
      "metadata": {
        "id": "xnXouq72JA7v"
      }
    },
    {
      "cell_type": "code",
      "source": [
        "def is_close_enough(lat, lon, theta):\n",
        "  length = ((lat-poutine_spot[0])**2+(lon-poutine_spot[1])**2)**(1/2)\n",
        "  return length <= theta"
      ],
      "metadata": {
        "id": "fhU7ARGD6xAE"
      },
      "execution_count": null,
      "outputs": []
    },
    {
      "cell_type": "markdown",
      "source": [
        "<h3>Logical Arrays</h3>\n",
        "<p>It's almost like the content above was relevant! In order to determine which indices are valid, we are going to build up a logical array by iterating over the dataframe and appending the result of our close_enough funciton. From there, we can use that logical array to subset our dataframe."
      ],
      "metadata": {
        "id": "DBZufM3SLeeY"
      }
    },
    {
      "cell_type": "code",
      "source": [
        "logical_array = []\n",
        "theta = 0.01\n",
        "for lat, lon in zip(valid_df['latitude'].tolist(), valid_df['longitude'].tolist()):\n",
        "  logical_array.append(is_close_enough(lat, lon, theta))\n",
        "\n",
        "ideal_airbnbs = valid_df[logical_array]\n"
      ],
      "metadata": {
        "id": "rY0lckCL7QUP"
      },
      "execution_count": null,
      "outputs": []
    },
    {
      "cell_type": "markdown",
      "source": [
        "<h2>Plot Solution</h2>"
      ],
      "metadata": {
        "id": "A33Iz5hlM1Qz"
      }
    },
    {
      "cell_type": "code",
      "source": [
        "import matplotlib.pyplot as plt\n",
        "\n",
        "# create figure and axis\n",
        "fig, ax = plt.subplots()\n",
        "\n",
        "# create circle\n",
        "circle = plt.Circle(poutine_spot, theta, fill=False, color='red', linewidth=2, label='Radius around Poutine Bishop')\n",
        "\n",
        "# scatter points\n",
        "ax.scatter(valid_df['latitude'].tolist(), valid_df['longitude'].tolist(), c='b', label='Valid AirBnbs')\n",
        "ax.scatter(ideal_airbnbs['latitude'].tolist(), ideal_airbnbs['longitude'].tolist(), c='black', label='Close to Poutine Bishop')\n",
        "# plot circle\n",
        "ax.add_artist(circle)\n",
        "\n",
        "# Add labels and legend\n",
        "ax.set_xlabel('longitude')\n",
        "ax.set_ylabel('latitude')\n",
        "ax.set_title(\"Highlighting Spots Close to Adam's Fave Poutine Spot\")\n",
        "ax.legend()\n",
        "\n",
        "\n",
        "ax.set_xlim([45.45, 45.52])  # Set X-axis limits\n",
        "ax.set_ylim([-73.6, -73.5])  # Set Y-axis limits\n",
        "ax.set_aspect('equal')  # Ensure the aspect ratio is equal\n",
        "\n",
        "# Display the plot with grid\n",
        "plt.grid(True)\n",
        "plt.show()\n"
      ],
      "metadata": {
        "colab": {
          "base_uri": "https://localhost:8080/",
          "height": 472
        },
        "id": "RW6EfPO6EZ9a",
        "outputId": "1a05d617-b73f-42dc-b097-907f680147d4"
      },
      "execution_count": null,
      "outputs": [
        {
          "output_type": "display_data",
          "data": {
            "text/plain": [
              "<Figure size 640x480 with 1 Axes>"
            ],
            "image/png": "[encoded data removed]"
          },
          "metadata": {}
        }
      ]
    }
  ]
}